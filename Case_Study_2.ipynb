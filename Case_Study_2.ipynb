{
  "nbformat": 4,
  "nbformat_minor": 0,
  "metadata": {
    "colab": {
      "name": "Case Study 2.ipynb",
      "provenance": [],
      "collapsed_sections": []
    },
    "kernelspec": {
      "name": "python3",
      "display_name": "Python 3"
    },
    "language_info": {
      "name": "python"
    }
  },
  "cells": [
    {
      "cell_type": "code",
      "metadata": {
        "colab": {
          "base_uri": "https://localhost:8080/"
        },
        "id": "KBemrLaOERXV",
        "outputId": "a07a3754-4d2e-414f-a438-1a0c1d16c920"
      },
      "source": [
        "import statsmodels as sm\n",
        "import pandas as pd\n",
        "import numpy as np\n",
        "import datetime as dt\n",
        "import math\n",
        "import matplotlib.pyplot as plt\n",
        "from pandas.plotting import autocorrelation_plot\n",
        "!pip install pmdarima\n",
        "import pmdarima as pmd"
      ],
      "execution_count": null,
      "outputs": [
        {
          "output_type": "stream",
          "name": "stdout",
          "text": [
            "Requirement already satisfied: pmdarima in /usr/local/lib/python3.7/dist-packages (1.8.3)\n",
            "Requirement already satisfied: joblib>=0.11 in /usr/local/lib/python3.7/dist-packages (from pmdarima) (1.0.1)\n",
            "Requirement already satisfied: scikit-learn>=0.22 in /usr/local/lib/python3.7/dist-packages (from pmdarima) (0.22.2.post1)\n",
            "Requirement already satisfied: urllib3 in /usr/local/lib/python3.7/dist-packages (from pmdarima) (1.24.3)\n",
            "Requirement already satisfied: setuptools!=50.0.0,>=38.6.0 in /usr/local/lib/python3.7/dist-packages (from pmdarima) (57.4.0)\n",
            "Requirement already satisfied: statsmodels!=0.12.0,>=0.11 in /usr/local/lib/python3.7/dist-packages (from pmdarima) (0.13.0)\n",
            "Requirement already satisfied: scipy>=1.3.2 in /usr/local/lib/python3.7/dist-packages (from pmdarima) (1.4.1)\n",
            "Requirement already satisfied: numpy>=1.19.3 in /usr/local/lib/python3.7/dist-packages (from pmdarima) (1.19.5)\n",
            "Requirement already satisfied: Cython!=0.29.18,>=0.29 in /usr/local/lib/python3.7/dist-packages (from pmdarima) (0.29.24)\n",
            "Requirement already satisfied: pandas>=0.19 in /usr/local/lib/python3.7/dist-packages (from pmdarima) (1.1.5)\n",
            "Requirement already satisfied: python-dateutil>=2.7.3 in /usr/local/lib/python3.7/dist-packages (from pandas>=0.19->pmdarima) (2.8.2)\n",
            "Requirement already satisfied: pytz>=2017.2 in /usr/local/lib/python3.7/dist-packages (from pandas>=0.19->pmdarima) (2018.9)\n",
            "Requirement already satisfied: six>=1.5 in /usr/local/lib/python3.7/dist-packages (from python-dateutil>=2.7.3->pandas>=0.19->pmdarima) (1.15.0)\n",
            "Requirement already satisfied: patsy>=0.5.2 in /usr/local/lib/python3.7/dist-packages (from statsmodels!=0.12.0,>=0.11->pmdarima) (0.5.2)\n"
          ]
        }
      ]
    },
    {
      "cell_type": "code",
      "metadata": {
        "colab": {
          "base_uri": "https://localhost:8080/"
        },
        "id": "lEWgDLCbEb2W",
        "outputId": "15334b47-ace6-46ea-f95e-852d3b0cbd6d"
      },
      "source": [
        "## Loading in the data \n",
        "from google.colab import drive\n",
        "drive.mount('/content/drive', force_remount = True)\n",
        "data = pd.read_csv('/content/drive/My Drive/7B15E011.csv')"
      ],
      "execution_count": 119,
      "outputs": [
        {
          "output_type": "stream",
          "name": "stdout",
          "text": [
            "Mounted at /content/drive\n"
          ]
        }
      ]
    },
    {
      "cell_type": "code",
      "metadata": {
        "colab": {
          "base_uri": "https://localhost:8080/",
          "height": 204
        },
        "id": "h_MBgJtRFecP",
        "outputId": "a640690e-8618-4748-a47f-5430ef5fa3bb"
      },
      "source": [
        "data['SurgDate'] = pd.to_datetime(data['SurgDate'])\n",
        "data.head()"
      ],
      "execution_count": 120,
      "outputs": [
        {
          "output_type": "execute_result",
          "data": {
            "text/html": [
              "<div>\n",
              "<style scoped>\n",
              "    .dataframe tbody tr th:only-of-type {\n",
              "        vertical-align: middle;\n",
              "    }\n",
              "\n",
              "    .dataframe tbody tr th {\n",
              "        vertical-align: top;\n",
              "    }\n",
              "\n",
              "    .dataframe thead th {\n",
              "        text-align: right;\n",
              "    }\n",
              "</style>\n",
              "<table border=\"1\" class=\"dataframe\">\n",
              "  <thead>\n",
              "    <tr style=\"text-align: right;\">\n",
              "      <th></th>\n",
              "      <th>SurgDate</th>\n",
              "      <th>DOW</th>\n",
              "      <th>T - 28</th>\n",
              "      <th>T - 21</th>\n",
              "      <th>T - 14</th>\n",
              "      <th>T - 13</th>\n",
              "      <th>T - 12</th>\n",
              "      <th>T - 11</th>\n",
              "      <th>T - 10</th>\n",
              "      <th>T - 9</th>\n",
              "      <th>T - 8</th>\n",
              "      <th>T - 7</th>\n",
              "      <th>T - 6</th>\n",
              "      <th>T - 5</th>\n",
              "      <th>T - 4</th>\n",
              "      <th>T - 3</th>\n",
              "      <th>T - 2</th>\n",
              "      <th>T - 1</th>\n",
              "      <th>Actual</th>\n",
              "    </tr>\n",
              "  </thead>\n",
              "  <tbody>\n",
              "    <tr>\n",
              "      <th>0</th>\n",
              "      <td>2011-10-10</td>\n",
              "      <td>Mon</td>\n",
              "      <td>38</td>\n",
              "      <td>45</td>\n",
              "      <td>60</td>\n",
              "      <td>63</td>\n",
              "      <td>65</td>\n",
              "      <td>70</td>\n",
              "      <td>73</td>\n",
              "      <td>73</td>\n",
              "      <td>73</td>\n",
              "      <td>80</td>\n",
              "      <td>84</td>\n",
              "      <td>89</td>\n",
              "      <td>94</td>\n",
              "      <td>98</td>\n",
              "      <td>100</td>\n",
              "      <td>104</td>\n",
              "      <td>106</td>\n",
              "    </tr>\n",
              "    <tr>\n",
              "      <th>1</th>\n",
              "      <td>2011-10-11</td>\n",
              "      <td>Tue</td>\n",
              "      <td>35</td>\n",
              "      <td>47</td>\n",
              "      <td>65</td>\n",
              "      <td>68</td>\n",
              "      <td>78</td>\n",
              "      <td>82</td>\n",
              "      <td>82</td>\n",
              "      <td>82</td>\n",
              "      <td>86</td>\n",
              "      <td>89</td>\n",
              "      <td>92</td>\n",
              "      <td>95</td>\n",
              "      <td>99</td>\n",
              "      <td>99</td>\n",
              "      <td>99</td>\n",
              "      <td>114</td>\n",
              "      <td>121</td>\n",
              "    </tr>\n",
              "    <tr>\n",
              "      <th>2</th>\n",
              "      <td>2011-10-12</td>\n",
              "      <td>Wed</td>\n",
              "      <td>26</td>\n",
              "      <td>43</td>\n",
              "      <td>54</td>\n",
              "      <td>62</td>\n",
              "      <td>72</td>\n",
              "      <td>72</td>\n",
              "      <td>72</td>\n",
              "      <td>74</td>\n",
              "      <td>87</td>\n",
              "      <td>94</td>\n",
              "      <td>96</td>\n",
              "      <td>101</td>\n",
              "      <td>102</td>\n",
              "      <td>102</td>\n",
              "      <td>106</td>\n",
              "      <td>114</td>\n",
              "      <td>126</td>\n",
              "    </tr>\n",
              "    <tr>\n",
              "      <th>3</th>\n",
              "      <td>2011-10-13</td>\n",
              "      <td>Thu</td>\n",
              "      <td>28</td>\n",
              "      <td>48</td>\n",
              "      <td>65</td>\n",
              "      <td>70</td>\n",
              "      <td>72</td>\n",
              "      <td>72</td>\n",
              "      <td>72</td>\n",
              "      <td>82</td>\n",
              "      <td>87</td>\n",
              "      <td>91</td>\n",
              "      <td>94</td>\n",
              "      <td>94</td>\n",
              "      <td>94</td>\n",
              "      <td>97</td>\n",
              "      <td>98</td>\n",
              "      <td>103</td>\n",
              "      <td>114</td>\n",
              "    </tr>\n",
              "    <tr>\n",
              "      <th>4</th>\n",
              "      <td>2011-10-14</td>\n",
              "      <td>Fri</td>\n",
              "      <td>31</td>\n",
              "      <td>40</td>\n",
              "      <td>50</td>\n",
              "      <td>50</td>\n",
              "      <td>50</td>\n",
              "      <td>54</td>\n",
              "      <td>62</td>\n",
              "      <td>68</td>\n",
              "      <td>71</td>\n",
              "      <td>73</td>\n",
              "      <td>73</td>\n",
              "      <td>73</td>\n",
              "      <td>78</td>\n",
              "      <td>83</td>\n",
              "      <td>87</td>\n",
              "      <td>94</td>\n",
              "      <td>106</td>\n",
              "    </tr>\n",
              "  </tbody>\n",
              "</table>\n",
              "</div>"
            ],
            "text/plain": [
              "    SurgDate  DOW  T - 28  T - 21  T - 14  ...  T - 4  T - 3  T - 2  T - 1  Actual\n",
              "0 2011-10-10  Mon      38      45      60  ...     94     98    100    104     106\n",
              "1 2011-10-11  Tue      35      47      65  ...     99     99     99    114     121\n",
              "2 2011-10-12  Wed      26      43      54  ...    102    102    106    114     126\n",
              "3 2011-10-13  Thu      28      48      65  ...     94     97     98    103     114\n",
              "4 2011-10-14  Fri      31      40      50  ...     78     83     87     94     106\n",
              "\n",
              "[5 rows x 19 columns]"
            ]
          },
          "metadata": {},
          "execution_count": 120
        }
      ]
    },
    {
      "cell_type": "code",
      "metadata": {
        "colab": {
          "base_uri": "https://localhost:8080/"
        },
        "id": "pbhgeyy9FCZ_",
        "outputId": "4939c17c-c67d-4794-fd35-f0cfedf5f62f"
      },
      "source": [
        "#Check if there are any null-values or not\n",
        "data.isnull().sum()"
      ],
      "execution_count": 121,
      "outputs": [
        {
          "output_type": "execute_result",
          "data": {
            "text/plain": [
              "SurgDate    0\n",
              "DOW         0\n",
              "T - 28      0\n",
              "T - 21      0\n",
              "T - 14      0\n",
              "T - 13      0\n",
              "T - 12      0\n",
              "T - 11      0\n",
              "T - 10      0\n",
              "T - 9       0\n",
              "T - 8       0\n",
              "T - 7       0\n",
              "T - 6       0\n",
              "T - 5       0\n",
              "T - 4       0\n",
              "T - 3       0\n",
              "T - 2       0\n",
              "T - 1       0\n",
              "Actual      0\n",
              "dtype: int64"
            ]
          },
          "metadata": {},
          "execution_count": 121
        }
      ]
    },
    {
      "cell_type": "code",
      "metadata": {
        "colab": {
          "base_uri": "https://localhost:8080/",
          "height": 295
        },
        "id": "EMoZDQQCFsK3",
        "outputId": "ebd550ad-9fae-4854-d31f-766114e467c6"
      },
      "source": [
        "#Plot time series (Code referred from Python timeseries practice notebook uploaded on Moodle )\n",
        "import matplotlib.dates as mdates\n",
        "locator = mdates.AutoDateLocator(minticks = 10, maxticks = 15)\n",
        "formatter = mdates.ConciseDateFormatter(locator)\n",
        "plt.gca().xaxis.set_major_locator(locator) \n",
        "plt.gca().xaxis.set_major_formatter(formatter)\n",
        "\n",
        "\n",
        "plt.plot(data['SurgDate'], data['Actual'])\n",
        "plt.xlabel('Date')\n",
        "plt.ylabel('Number of Surgeries')\n",
        "plt.title('Number of Surgeries v/s Time')\n",
        "plt.show()"
      ],
      "execution_count": 122,
      "outputs": [
        {
          "output_type": "display_data",
          "data": {
            "image/png": "[encoded data removed]",
            "text/plain": [
              "<Figure size 432x288 with 1 Axes>"
            ]
          },
          "metadata": {
            "needs_background": "light"
          }
        }
      ]
    },
    {
      "cell_type": "code",
      "metadata": {
        "colab": {
          "base_uri": "https://localhost:8080/",
          "height": 235
        },
        "id": "5M-UBe59F4Se",
        "outputId": "64342a74-847c-4952-94e4-bfe977415cb8"
      },
      "source": [
        "#Converting Categorical data into numeric data\n",
        "data['DOW'] = data['DOW'].apply(lambda x: ['Mon', 'Tue', 'Wed', 'Thu','Fri'].index(x))\n",
        "data.head(6)"
      ],
      "execution_count": 123,
      "outputs": [
        {
          "output_type": "execute_result",
          "data": {
            "text/html": [
              "<div>\n",
              "<style scoped>\n",
              "    .dataframe tbody tr th:only-of-type {\n",
              "        vertical-align: middle;\n",
              "    }\n",
              "\n",
              "    .dataframe tbody tr th {\n",
              "        vertical-align: top;\n",
              "    }\n",
              "\n",
              "    .dataframe thead th {\n",
              "        text-align: right;\n",
              "    }\n",
              "</style>\n",
              "<table border=\"1\" class=\"dataframe\">\n",
              "  <thead>\n",
              "    <tr style=\"text-align: right;\">\n",
              "      <th></th>\n",
              "      <th>SurgDate</th>\n",
              "      <th>DOW</th>\n",
              "      <th>T - 28</th>\n",
              "      <th>T - 21</th>\n",
              "      <th>T - 14</th>\n",
              "      <th>T - 13</th>\n",
              "      <th>T - 12</th>\n",
              "      <th>T - 11</th>\n",
              "      <th>T - 10</th>\n",
              "      <th>T - 9</th>\n",
              "      <th>T - 8</th>\n",
              "      <th>T - 7</th>\n",
              "      <th>T - 6</th>\n",
              "      <th>T - 5</th>\n",
              "      <th>T - 4</th>\n",
              "      <th>T - 3</th>\n",
              "      <th>T - 2</th>\n",
              "      <th>T - 1</th>\n",
              "      <th>Actual</th>\n",
              "    </tr>\n",
              "  </thead>\n",
              "  <tbody>\n",
              "    <tr>\n",
              "      <th>0</th>\n",
              "      <td>2011-10-10</td>\n",
              "      <td>0</td>\n",
              "      <td>38</td>\n",
              "      <td>45</td>\n",
              "      <td>60</td>\n",
              "      <td>63</td>\n",
              "      <td>65</td>\n",
              "      <td>70</td>\n",
              "      <td>73</td>\n",
              "      <td>73</td>\n",
              "      <td>73</td>\n",
              "      <td>80</td>\n",
              "      <td>84</td>\n",
              "      <td>89</td>\n",
              "      <td>94</td>\n",
              "      <td>98</td>\n",
              "      <td>100</td>\n",
              "      <td>104</td>\n",
              "      <td>106</td>\n",
              "    </tr>\n",
              "    <tr>\n",
              "      <th>1</th>\n",
              "      <td>2011-10-11</td>\n",
              "      <td>1</td>\n",
              "      <td>35</td>\n",
              "      <td>47</td>\n",
              "      <td>65</td>\n",
              "      <td>68</td>\n",
              "      <td>78</td>\n",
              "      <td>82</td>\n",
              "      <td>82</td>\n",
              "      <td>82</td>\n",
              "      <td>86</td>\n",
              "      <td>89</td>\n",
              "      <td>92</td>\n",
              "      <td>95</td>\n",
              "      <td>99</td>\n",
              "      <td>99</td>\n",
              "      <td>99</td>\n",
              "      <td>114</td>\n",
              "      <td>121</td>\n",
              "    </tr>\n",
              "    <tr>\n",
              "      <th>2</th>\n",
              "      <td>2011-10-12</td>\n",
              "      <td>2</td>\n",
              "      <td>26</td>\n",
              "      <td>43</td>\n",
              "      <td>54</td>\n",
              "      <td>62</td>\n",
              "      <td>72</td>\n",
              "      <td>72</td>\n",
              "      <td>72</td>\n",
              "      <td>74</td>\n",
              "      <td>87</td>\n",
              "      <td>94</td>\n",
              "      <td>96</td>\n",
              "      <td>101</td>\n",
              "      <td>102</td>\n",
              "      <td>102</td>\n",
              "      <td>106</td>\n",
              "      <td>114</td>\n",
              "      <td>126</td>\n",
              "    </tr>\n",
              "    <tr>\n",
              "      <th>3</th>\n",
              "      <td>2011-10-13</td>\n",
              "      <td>3</td>\n",
              "      <td>28</td>\n",
              "      <td>48</td>\n",
              "      <td>65</td>\n",
              "      <td>70</td>\n",
              "      <td>72</td>\n",
              "      <td>72</td>\n",
              "      <td>72</td>\n",
              "      <td>82</td>\n",
              "      <td>87</td>\n",
              "      <td>91</td>\n",
              "      <td>94</td>\n",
              "      <td>94</td>\n",
              "      <td>94</td>\n",
              "      <td>97</td>\n",
              "      <td>98</td>\n",
              "      <td>103</td>\n",
              "      <td>114</td>\n",
              "    </tr>\n",
              "    <tr>\n",
              "      <th>4</th>\n",
              "      <td>2011-10-14</td>\n",
              "      <td>4</td>\n",
              "      <td>31</td>\n",
              "      <td>40</td>\n",
              "      <td>50</td>\n",
              "      <td>50</td>\n",
              "      <td>50</td>\n",
              "      <td>54</td>\n",
              "      <td>62</td>\n",
              "      <td>68</td>\n",
              "      <td>71</td>\n",
              "      <td>73</td>\n",
              "      <td>73</td>\n",
              "      <td>73</td>\n",
              "      <td>78</td>\n",
              "      <td>83</td>\n",
              "      <td>87</td>\n",
              "      <td>94</td>\n",
              "      <td>106</td>\n",
              "    </tr>\n",
              "    <tr>\n",
              "      <th>5</th>\n",
              "      <td>2011-10-17</td>\n",
              "      <td>0</td>\n",
              "      <td>41</td>\n",
              "      <td>56</td>\n",
              "      <td>65</td>\n",
              "      <td>69</td>\n",
              "      <td>72</td>\n",
              "      <td>73</td>\n",
              "      <td>77</td>\n",
              "      <td>78</td>\n",
              "      <td>78</td>\n",
              "      <td>80</td>\n",
              "      <td>86</td>\n",
              "      <td>85</td>\n",
              "      <td>86</td>\n",
              "      <td>92</td>\n",
              "      <td>96</td>\n",
              "      <td>102</td>\n",
              "      <td>111</td>\n",
              "    </tr>\n",
              "  </tbody>\n",
              "</table>\n",
              "</div>"
            ],
            "text/plain": [
              "    SurgDate  DOW  T - 28  T - 21  T - 14  ...  T - 4  T - 3  T - 2  T - 1  Actual\n",
              "0 2011-10-10    0      38      45      60  ...     94     98    100    104     106\n",
              "1 2011-10-11    1      35      47      65  ...     99     99     99    114     121\n",
              "2 2011-10-12    2      26      43      54  ...    102    102    106    114     126\n",
              "3 2011-10-13    3      28      48      65  ...     94     97     98    103     114\n",
              "4 2011-10-14    4      31      40      50  ...     78     83     87     94     106\n",
              "5 2011-10-17    0      41      56      65  ...     86     92     96    102     111\n",
              "\n",
              "[6 rows x 19 columns]"
            ]
          },
          "metadata": {},
          "execution_count": 123
        }
      ]
    },
    {
      "cell_type": "code",
      "metadata": {
        "id": "mBMPcIwzGBc3"
      },
      "source": [
        "#Random split into train and test data for regression\n",
        "input_parameters=data.drop(['Actual'],axis=1)\n",
        "target_values=data['Actual']\n",
        "from sklearn.model_selection import train_test_split\n",
        "X_train, X_test, y_train, y_test = train_test_split(input_parameters,target_values,test_size=0.2,random_state=5)"
      ],
      "execution_count": 124,
      "outputs": []
    },
    {
      "cell_type": "code",
      "metadata": {
        "colab": {
          "base_uri": "https://localhost:8080/",
          "height": 385
        },
        "id": "gWVac-TwGPxN",
        "outputId": "b98dfa4a-a79b-4130-be93-a79dfbd58598"
      },
      "source": [
        "import warnings\n",
        "warnings.filterwarnings(\"ignore\")\n",
        "from sklearn.linear_model import LinearRegression\n",
        "from sklearn.metrics import mean_squared_error\n",
        "mse=[]\n",
        "model=LinearRegression()\n",
        "for i in range(2,18):\n",
        "    model.fit(X_train.iloc[:,i].values.reshape(-1,1),y_train)\n",
        "    predictions=model.predict(X_test.iloc[:,i].values.reshape(-1,1))\n",
        "    mse.append(mean_squared_error(predictions,y_test))\n",
        "plt.plot(X_train.columns[2:],mse)\n",
        "plt.xlabel('Days predicted')\n",
        "plt.xticks(rotation=90)\n",
        "plt.ylabel('MSE')\n",
        "plt.title(\"Days forecasted vs MSE\")\n",
        "plt.show()\n",
        "print(mse)"
      ],
      "execution_count": 165,
      "outputs": [
        {
          "output_type": "stream",
          "name": "stderr",
          "text": [
            "INFO:matplotlib.category:Using categorical units to plot a list of strings that are all parsable as floats or dates. If these strings should be plotted as numbers, cast to the appropriate data type before plotting.\n",
            "INFO:matplotlib.category:Using categorical units to plot a list of strings that are all parsable as floats or dates. If these strings should be plotted as numbers, cast to the appropriate data type before plotting.\n"
          ]
        },
        {
          "output_type": "display_data",
          "data": {
            "image/png": "[encoded data removed]",
            "text/plain": [
              "<Figure size 432x288 with 1 Axes>"
            ]
          },
          "metadata": {
            "needs_background": "light"
          }
        },
        {
          "output_type": "stream",
          "name": "stdout",
          "text": [
            "[195.14393930279144, 168.5471771761225, 128.63005029519255, 126.81412209701591, 115.04680829267289, 103.44614813313007, 91.70290699387992, 77.39631683274776, 68.4262395217159, 65.88369454627203, 56.5097580386982, 42.10048192669197, 42.368158107757644, 43.21362575550543, 36.3961458415403, 22.15810236196602]\n"
          ]
        }
      ]
    },
    {
      "cell_type": "code",
      "metadata": {
        "colab": {
          "base_uri": "https://localhost:8080/",
          "height": 385
        },
        "id": "2ockljo4GjZo",
        "outputId": "34e4d4a7-acd4-403c-bf1a-8d2e225d5b7d"
      },
      "source": [
        "mse_new=[]\n",
        "model=LinearRegression()\n",
        "for i in range(2,18):\n",
        "    model.fit(X_train.loc[:,['DOW',X_train.columns[i]]],y_train)\n",
        "    predictions=model.predict(X_test.loc[:,['DOW',X_train.columns[i]]])\n",
        "    mse_new.append(mean_squared_error(predictions,y_test))\n",
        "plt.plot(X_train.columns[2:],mse_new)\n",
        "plt.xlabel('Days predicted (with DOW considered)')\n",
        "plt.xticks(rotation=90)\n",
        "plt.ylabel('MSE')\n",
        "plt.title(\"Days forecasted (with DOW considered) vs MSE\")\n",
        "plt.show()\n",
        "print(mse_new)"
      ],
      "execution_count": 167,
      "outputs": [
        {
          "output_type": "stream",
          "name": "stderr",
          "text": [
            "INFO:matplotlib.category:Using categorical units to plot a list of strings that are all parsable as floats or dates. If these strings should be plotted as numbers, cast to the appropriate data type before plotting.\n",
            "INFO:matplotlib.category:Using categorical units to plot a list of strings that are all parsable as floats or dates. If these strings should be plotted as numbers, cast to the appropriate data type before plotting.\n"
          ]
        },
        {
          "output_type": "display_data",
          "data": {
            "image/png": "[encoded data removed]",
            "text/plain": [
              "<Figure size 432x288 with 1 Axes>"
            ]
          },
          "metadata": {
            "needs_background": "light"
          }
        },
        {
          "output_type": "stream",
          "name": "stdout",
          "text": [
            "[200.59883589696483, 172.3967755325261, 126.70800984723857, 128.96418277965523, 118.04935492484292, 106.2311351583685, 95.98477631305111, 80.28278447370202, 66.4887651406226, 62.144841715735616, 58.707804817436084, 45.118547055811916, 42.55657516406145, 43.56313341876356, 39.0041929414882, 22.378152761742122]\n"
          ]
        }
      ]
    },
    {
      "cell_type": "code",
      "metadata": {
        "colab": {
          "base_uri": "https://localhost:8080/",
          "height": 402
        },
        "id": "KazSam0SjGm9",
        "outputId": "5326184e-c5bf-4b2a-f85c-78551cacdd40"
      },
      "source": [
        "plt.plot(X_train.columns[2:],mse_new,label='With DOW')\n",
        "plt.plot(X_train.columns[2:],mse,color='red')\n",
        "plt.xlabel('Days predicted (with DOW considered)')\n",
        "plt.xticks(rotation=90)\n",
        "plt.ylabel('MSE')\n",
        "plt.title(\"Days forecasted (with DOW considered) vs MSE\")\n",
        "plt.legend()\n",
        "plt.show()"
      ],
      "execution_count": 135,
      "outputs": [
        {
          "output_type": "stream",
          "name": "stderr",
          "text": [
            "INFO:matplotlib.category:Using categorical units to plot a list of strings that are all parsable as floats or dates. If these strings should be plotted as numbers, cast to the appropriate data type before plotting.\n",
            "INFO:matplotlib.category:Using categorical units to plot a list of strings that are all parsable as floats or dates. If these strings should be plotted as numbers, cast to the appropriate data type before plotting.\n",
            "INFO:matplotlib.category:Using categorical units to plot a list of strings that are all parsable as floats or dates. If these strings should be plotted as numbers, cast to the appropriate data type before plotting.\n",
            "INFO:matplotlib.category:Using categorical units to plot a list of strings that are all parsable as floats or dates. If these strings should be plotted as numbers, cast to the appropriate data type before plotting.\n"
          ]
        },
        {
          "output_type": "display_data",
          "data": {
            "image/png": "[encoded data removed]",
            "text/plain": [
              "<Figure size 432x288 with 1 Axes>"
            ]
          },
          "metadata": {
            "needs_background": "light"
          }
        }
      ]
    },
    {
      "cell_type": "markdown",
      "metadata": {
        "id": "QqeB28lvIfK0"
      },
      "source": [
        "### **Time** **Series** **Approach**"
      ]
    },
    {
      "cell_type": "code",
      "metadata": {
        "id": "_SH5kn-9Gk-8"
      },
      "source": [
        "#Time Series\n",
        "\n",
        "X_train_timeseries=data.loc[:191,'SurgDate']\n",
        "X_test_timeseries=data.loc[192:,'SurgDate']\n",
        "y_train_timeseries=data.loc[:191,'Actual']\n",
        "y_test_timeseries=data.loc[192:,'Actual']"
      ],
      "execution_count": 137,
      "outputs": []
    },
    {
      "cell_type": "code",
      "metadata": {
        "colab": {
          "base_uri": "https://localhost:8080/",
          "height": 295
        },
        "id": "lJZd3Z3TIn4W",
        "outputId": "7f1515a0-28e3-4b28-9fa1-46d3099f62c0"
      },
      "source": [
        "from pandas.plotting import autocorrelation_plot\n",
        "actual = np.array(y_train_timeseries)\n",
        "autocorrelation_plot(actual)\n",
        "plt.title('Autocorrelation Plot')\n",
        "plt.show()"
      ],
      "execution_count": 138,
      "outputs": [
        {
          "output_type": "display_data",
          "data": {
            "image/png": "[encoded data removed]",
            "text/plain": [
              "<Figure size 432x288 with 1 Axes>"
            ]
          },
          "metadata": {
            "needs_background": "light"
          }
        }
      ]
    },
    {
      "cell_type": "markdown",
      "metadata": {
        "id": "OjnFTdmTI4J0"
      },
      "source": [
        "## **Mean** **Baseline**"
      ]
    },
    {
      "cell_type": "code",
      "metadata": {
        "colab": {
          "base_uri": "https://localhost:8080/",
          "height": 204
        },
        "id": "_NJjlnp6I8QO",
        "outputId": "631e89a6-d091-4f62-e0d0-97e937b10ecb"
      },
      "source": [
        "predictions_df = pd.DataFrame(X_test_timeseries)\n",
        "predictions_df = predictions_df.reset_index(drop = True)\n",
        "predictions_df['mean_baseline']=y_train_timeseries.mean()\n",
        "predictions_df.head()\n"
      ],
      "execution_count": 139,
      "outputs": [
        {
          "output_type": "execute_result",
          "data": {
            "text/html": [
              "<div>\n",
              "<style scoped>\n",
              "    .dataframe tbody tr th:only-of-type {\n",
              "        vertical-align: middle;\n",
              "    }\n",
              "\n",
              "    .dataframe tbody tr th {\n",
              "        vertical-align: top;\n",
              "    }\n",
              "\n",
              "    .dataframe thead th {\n",
              "        text-align: right;\n",
              "    }\n",
              "</style>\n",
              "<table border=\"1\" class=\"dataframe\">\n",
              "  <thead>\n",
              "    <tr style=\"text-align: right;\">\n",
              "      <th></th>\n",
              "      <th>SurgDate</th>\n",
              "      <th>mean_baseline</th>\n",
              "    </tr>\n",
              "  </thead>\n",
              "  <tbody>\n",
              "    <tr>\n",
              "      <th>0</th>\n",
              "      <td>2012-07-09</td>\n",
              "      <td>115.848958</td>\n",
              "    </tr>\n",
              "    <tr>\n",
              "      <th>1</th>\n",
              "      <td>2012-07-10</td>\n",
              "      <td>115.848958</td>\n",
              "    </tr>\n",
              "    <tr>\n",
              "      <th>2</th>\n",
              "      <td>2012-07-11</td>\n",
              "      <td>115.848958</td>\n",
              "    </tr>\n",
              "    <tr>\n",
              "      <th>3</th>\n",
              "      <td>2012-07-12</td>\n",
              "      <td>115.848958</td>\n",
              "    </tr>\n",
              "    <tr>\n",
              "      <th>4</th>\n",
              "      <td>2012-07-13</td>\n",
              "      <td>115.848958</td>\n",
              "    </tr>\n",
              "  </tbody>\n",
              "</table>\n",
              "</div>"
            ],
            "text/plain": [
              "    SurgDate  mean_baseline\n",
              "0 2012-07-09     115.848958\n",
              "1 2012-07-10     115.848958\n",
              "2 2012-07-11     115.848958\n",
              "3 2012-07-12     115.848958\n",
              "4 2012-07-13     115.848958"
            ]
          },
          "metadata": {},
          "execution_count": 139
        }
      ]
    },
    {
      "cell_type": "markdown",
      "metadata": {
        "id": "419gY0TlJI8E"
      },
      "source": [
        "## **Naive** **Baseline**"
      ]
    },
    {
      "cell_type": "code",
      "metadata": {
        "colab": {
          "base_uri": "https://localhost:8080/",
          "height": 204
        },
        "id": "b9OFoI1fJWk_",
        "outputId": "e41fdbb7-c05d-4d82-a14a-7842205709a2"
      },
      "source": [
        "yT = y_train_timeseries[len(y_train_timeseries) - 1]\n",
        "predictions_df['Naive_baseline'] = yT\n",
        "predictions_df.head()"
      ],
      "execution_count": 140,
      "outputs": [
        {
          "output_type": "execute_result",
          "data": {
            "text/html": [
              "<div>\n",
              "<style scoped>\n",
              "    .dataframe tbody tr th:only-of-type {\n",
              "        vertical-align: middle;\n",
              "    }\n",
              "\n",
              "    .dataframe tbody tr th {\n",
              "        vertical-align: top;\n",
              "    }\n",
              "\n",
              "    .dataframe thead th {\n",
              "        text-align: right;\n",
              "    }\n",
              "</style>\n",
              "<table border=\"1\" class=\"dataframe\">\n",
              "  <thead>\n",
              "    <tr style=\"text-align: right;\">\n",
              "      <th></th>\n",
              "      <th>SurgDate</th>\n",
              "      <th>mean_baseline</th>\n",
              "      <th>Naive_baseline</th>\n",
              "    </tr>\n",
              "  </thead>\n",
              "  <tbody>\n",
              "    <tr>\n",
              "      <th>0</th>\n",
              "      <td>2012-07-09</td>\n",
              "      <td>115.848958</td>\n",
              "      <td>129</td>\n",
              "    </tr>\n",
              "    <tr>\n",
              "      <th>1</th>\n",
              "      <td>2012-07-10</td>\n",
              "      <td>115.848958</td>\n",
              "      <td>129</td>\n",
              "    </tr>\n",
              "    <tr>\n",
              "      <th>2</th>\n",
              "      <td>2012-07-11</td>\n",
              "      <td>115.848958</td>\n",
              "      <td>129</td>\n",
              "    </tr>\n",
              "    <tr>\n",
              "      <th>3</th>\n",
              "      <td>2012-07-12</td>\n",
              "      <td>115.848958</td>\n",
              "      <td>129</td>\n",
              "    </tr>\n",
              "    <tr>\n",
              "      <th>4</th>\n",
              "      <td>2012-07-13</td>\n",
              "      <td>115.848958</td>\n",
              "      <td>129</td>\n",
              "    </tr>\n",
              "  </tbody>\n",
              "</table>\n",
              "</div>"
            ],
            "text/plain": [
              "    SurgDate  mean_baseline  Naive_baseline\n",
              "0 2012-07-09     115.848958             129\n",
              "1 2012-07-10     115.848958             129\n",
              "2 2012-07-11     115.848958             129\n",
              "3 2012-07-12     115.848958             129\n",
              "4 2012-07-13     115.848958             129"
            ]
          },
          "metadata": {},
          "execution_count": 140
        }
      ]
    },
    {
      "cell_type": "markdown",
      "metadata": {
        "id": "2A_q0mblJpAt"
      },
      "source": [
        "# **Seasonal** **Naive**"
      ]
    },
    {
      "cell_type": "code",
      "metadata": {
        "colab": {
          "base_uri": "https://localhost:8080/",
          "height": 204
        },
        "id": "ZJtG7VMMJb4f",
        "outputId": "2e4a1606-72b3-4bd0-8e3a-7507841ba7d7"
      },
      "source": [
        "h_max=49\n",
        "m=5\n",
        "pred_list = []\n",
        "T=len(y_train_timeseries)\n",
        "for h in range(1, h_max + 1): \n",
        "    k = math.floor((h - 1)/m)\n",
        "    index = T + h - m * (k + 1)\n",
        "    pred_list.append(y_train_timeseries[index - 1])\n",
        "predictions_df['seasonal_naive_baseline'] = pred_list\n",
        "predictions_df.head()"
      ],
      "execution_count": 141,
      "outputs": [
        {
          "output_type": "execute_result",
          "data": {
            "text/html": [
              "<div>\n",
              "<style scoped>\n",
              "    .dataframe tbody tr th:only-of-type {\n",
              "        vertical-align: middle;\n",
              "    }\n",
              "\n",
              "    .dataframe tbody tr th {\n",
              "        vertical-align: top;\n",
              "    }\n",
              "\n",
              "    .dataframe thead th {\n",
              "        text-align: right;\n",
              "    }\n",
              "</style>\n",
              "<table border=\"1\" class=\"dataframe\">\n",
              "  <thead>\n",
              "    <tr style=\"text-align: right;\">\n",
              "      <th></th>\n",
              "      <th>SurgDate</th>\n",
              "      <th>mean_baseline</th>\n",
              "      <th>Naive_baseline</th>\n",
              "      <th>seasonal_naive_baseline</th>\n",
              "    </tr>\n",
              "  </thead>\n",
              "  <tbody>\n",
              "    <tr>\n",
              "      <th>0</th>\n",
              "      <td>2012-07-09</td>\n",
              "      <td>115.848958</td>\n",
              "      <td>129</td>\n",
              "      <td>108</td>\n",
              "    </tr>\n",
              "    <tr>\n",
              "      <th>1</th>\n",
              "      <td>2012-07-10</td>\n",
              "      <td>115.848958</td>\n",
              "      <td>129</td>\n",
              "      <td>124</td>\n",
              "    </tr>\n",
              "    <tr>\n",
              "      <th>2</th>\n",
              "      <td>2012-07-11</td>\n",
              "      <td>115.848958</td>\n",
              "      <td>129</td>\n",
              "      <td>111</td>\n",
              "    </tr>\n",
              "    <tr>\n",
              "      <th>3</th>\n",
              "      <td>2012-07-12</td>\n",
              "      <td>115.848958</td>\n",
              "      <td>129</td>\n",
              "      <td>104</td>\n",
              "    </tr>\n",
              "    <tr>\n",
              "      <th>4</th>\n",
              "      <td>2012-07-13</td>\n",
              "      <td>115.848958</td>\n",
              "      <td>129</td>\n",
              "      <td>129</td>\n",
              "    </tr>\n",
              "  </tbody>\n",
              "</table>\n",
              "</div>"
            ],
            "text/plain": [
              "    SurgDate  mean_baseline  Naive_baseline  seasonal_naive_baseline\n",
              "0 2012-07-09     115.848958             129                      108\n",
              "1 2012-07-10     115.848958             129                      124\n",
              "2 2012-07-11     115.848958             129                      111\n",
              "3 2012-07-12     115.848958             129                      104\n",
              "4 2012-07-13     115.848958             129                      129"
            ]
          },
          "metadata": {},
          "execution_count": 141
        }
      ]
    },
    {
      "cell_type": "markdown",
      "metadata": {
        "id": "FB-JMT2QKAS-"
      },
      "source": [
        "## **Drift**"
      ]
    },
    {
      "cell_type": "code",
      "metadata": {
        "colab": {
          "base_uri": "https://localhost:8080/",
          "height": 204
        },
        "id": "ehcYBsM9J6Nw",
        "outputId": "e063c3d3-b9c6-497a-98d4-baef275a02d4"
      },
      "source": [
        "drift = []\n",
        "y1=y_train_timeseries[0]\n",
        "for h in range(1, h_max+1): \n",
        "    result = yT + h * ((yT-y1) / (T-1))\n",
        "    drift.append(result)\n",
        "predictions_df['drift_baseline'] = drift\n",
        "predictions_df.head()"
      ],
      "execution_count": 142,
      "outputs": [
        {
          "output_type": "execute_result",
          "data": {
            "text/html": [
              "<div>\n",
              "<style scoped>\n",
              "    .dataframe tbody tr th:only-of-type {\n",
              "        vertical-align: middle;\n",
              "    }\n",
              "\n",
              "    .dataframe tbody tr th {\n",
              "        vertical-align: top;\n",
              "    }\n",
              "\n",
              "    .dataframe thead th {\n",
              "        text-align: right;\n",
              "    }\n",
              "</style>\n",
              "<table border=\"1\" class=\"dataframe\">\n",
              "  <thead>\n",
              "    <tr style=\"text-align: right;\">\n",
              "      <th></th>\n",
              "      <th>SurgDate</th>\n",
              "      <th>mean_baseline</th>\n",
              "      <th>Naive_baseline</th>\n",
              "      <th>seasonal_naive_baseline</th>\n",
              "      <th>drift_baseline</th>\n",
              "    </tr>\n",
              "  </thead>\n",
              "  <tbody>\n",
              "    <tr>\n",
              "      <th>0</th>\n",
              "      <td>2012-07-09</td>\n",
              "      <td>115.848958</td>\n",
              "      <td>129</td>\n",
              "      <td>108</td>\n",
              "      <td>129.120419</td>\n",
              "    </tr>\n",
              "    <tr>\n",
              "      <th>1</th>\n",
              "      <td>2012-07-10</td>\n",
              "      <td>115.848958</td>\n",
              "      <td>129</td>\n",
              "      <td>124</td>\n",
              "      <td>129.240838</td>\n",
              "    </tr>\n",
              "    <tr>\n",
              "      <th>2</th>\n",
              "      <td>2012-07-11</td>\n",
              "      <td>115.848958</td>\n",
              "      <td>129</td>\n",
              "      <td>111</td>\n",
              "      <td>129.361257</td>\n",
              "    </tr>\n",
              "    <tr>\n",
              "      <th>3</th>\n",
              "      <td>2012-07-12</td>\n",
              "      <td>115.848958</td>\n",
              "      <td>129</td>\n",
              "      <td>104</td>\n",
              "      <td>129.481675</td>\n",
              "    </tr>\n",
              "    <tr>\n",
              "      <th>4</th>\n",
              "      <td>2012-07-13</td>\n",
              "      <td>115.848958</td>\n",
              "      <td>129</td>\n",
              "      <td>129</td>\n",
              "      <td>129.602094</td>\n",
              "    </tr>\n",
              "  </tbody>\n",
              "</table>\n",
              "</div>"
            ],
            "text/plain": [
              "    SurgDate  mean_baseline  ...  seasonal_naive_baseline  drift_baseline\n",
              "0 2012-07-09     115.848958  ...                      108      129.120419\n",
              "1 2012-07-10     115.848958  ...                      124      129.240838\n",
              "2 2012-07-11     115.848958  ...                      111      129.361257\n",
              "3 2012-07-12     115.848958  ...                      104      129.481675\n",
              "4 2012-07-13     115.848958  ...                      129      129.602094\n",
              "\n",
              "[5 rows x 5 columns]"
            ]
          },
          "metadata": {},
          "execution_count": 142
        }
      ]
    },
    {
      "cell_type": "markdown",
      "metadata": {
        "id": "ODqkQlDiKI0M"
      },
      "source": [
        "**Plotting** **Baseline** **Methods** **for** Comparison"
      ]
    },
    {
      "cell_type": "code",
      "metadata": {
        "colab": {
          "base_uri": "https://localhost:8080/",
          "height": 295
        },
        "id": "-Qts4BmwKEvb",
        "outputId": "28a6f7cd-e2e4-47b5-a269-a6f3d80d3055"
      },
      "source": [
        "locator = mdates.AutoDateLocator(minticks = 10, maxticks = 15)\n",
        "formatter = mdates.ConciseDateFormatter(locator)\n",
        "plt.gca().xaxis.set_major_locator(locator) \n",
        "plt.gca().xaxis.set_major_formatter(formatter)\n",
        "\n",
        "\n",
        "plt.plot(X_train_timeseries, y_train_timeseries)\n",
        "## Your plotting code here to add the baseline methods\n",
        "plt.plot(predictions_df['SurgDate'], predictions_df['mean_baseline'], label = 'mean')\n",
        "plt.plot(predictions_df['SurgDate'], predictions_df['Naive_baseline'], label = 'naive')\n",
        "plt.plot(predictions_df['SurgDate'], predictions_df['drift_baseline'], label = 'drift')\n",
        "plt.plot(predictions_df['SurgDate'], predictions_df['seasonal_naive_baseline'], label = 'seasonal naive', linestyle = '--', alpha = 0.3)\n",
        "plt.xlabel('Time')\n",
        "plt.ylabel('Number of Departures')\n",
        "plt.title('Number of Departures per Hour')\n",
        "plt.legend()\n",
        "plt.show()"
      ],
      "execution_count": 143,
      "outputs": [
        {
          "output_type": "display_data",
          "data": {
            "image/png": "[encoded data removed]",
            "text/plain": [
              "<Figure size 432x288 with 1 Axes>"
            ]
          },
          "metadata": {
            "needs_background": "light"
          }
        }
      ]
    },
    {
      "cell_type": "markdown",
      "metadata": {
        "id": "OU4Uho25KZdU"
      },
      "source": [
        "## **Prophet** **Model**"
      ]
    },
    {
      "cell_type": "code",
      "metadata": {
        "colab": {
          "base_uri": "https://localhost:8080/"
        },
        "id": "MLZ_l1ZmKQbW",
        "outputId": "34e2a172-8c24-4d1f-a109-479816ff88f4"
      },
      "source": [
        "!pip install prophet\n",
        "from prophet import Prophet"
      ],
      "execution_count": null,
      "outputs": [
        {
          "output_type": "stream",
          "name": "stdout",
          "text": [
            "Requirement already satisfied: prophet in /usr/local/lib/python3.7/dist-packages (1.0.1)\n",
            "Requirement already satisfied: Cython>=0.22 in /usr/local/lib/python3.7/dist-packages (from prophet) (0.29.24)\n",
            "Requirement already satisfied: matplotlib>=2.0.0 in /usr/local/lib/python3.7/dist-packages (from prophet) (3.2.2)\n",
            "Requirement already satisfied: LunarCalendar>=0.0.9 in /usr/local/lib/python3.7/dist-packages (from prophet) (0.0.9)\n",
            "Requirement already satisfied: tqdm>=4.36.1 in /usr/local/lib/python3.7/dist-packages (from prophet) (4.62.3)\n",
            "Requirement already satisfied: cmdstanpy==0.9.68 in /usr/local/lib/python3.7/dist-packages (from prophet) (0.9.68)\n",
            "Requirement already satisfied: holidays>=0.10.2 in /usr/local/lib/python3.7/dist-packages (from prophet) (0.10.5.2)\n",
            "Requirement already satisfied: numpy>=1.15.4 in /usr/local/lib/python3.7/dist-packages (from prophet) (1.19.5)\n",
            "Requirement already satisfied: convertdate>=2.1.2 in /usr/local/lib/python3.7/dist-packages (from prophet) (2.3.2)\n",
            "Requirement already satisfied: python-dateutil>=2.8.0 in /usr/local/lib/python3.7/dist-packages (from prophet) (2.8.2)\n",
            "Requirement already satisfied: pystan~=2.19.1.1 in /usr/local/lib/python3.7/dist-packages (from prophet) (2.19.1.1)\n",
            "Requirement already satisfied: pandas>=1.0.4 in /usr/local/lib/python3.7/dist-packages (from prophet) (1.1.5)\n",
            "Requirement already satisfied: setuptools-git>=1.2 in /usr/local/lib/python3.7/dist-packages (from prophet) (1.2)\n",
            "Requirement already satisfied: ujson in /usr/local/lib/python3.7/dist-packages (from cmdstanpy==0.9.68->prophet) (4.2.0)\n",
            "Requirement already satisfied: pytz>=2014.10 in /usr/local/lib/python3.7/dist-packages (from convertdate>=2.1.2->prophet) (2018.9)\n",
            "Requirement already satisfied: pymeeus<=1,>=0.3.13 in /usr/local/lib/python3.7/dist-packages (from convertdate>=2.1.2->prophet) (0.5.11)\n",
            "Requirement already satisfied: korean-lunar-calendar in /usr/local/lib/python3.7/dist-packages (from holidays>=0.10.2->prophet) (0.2.1)\n",
            "Requirement already satisfied: six in /usr/local/lib/python3.7/dist-packages (from holidays>=0.10.2->prophet) (1.15.0)\n",
            "Requirement already satisfied: hijri-converter in /usr/local/lib/python3.7/dist-packages (from holidays>=0.10.2->prophet) (2.2.2)\n",
            "Requirement already satisfied: ephem>=3.7.5.3 in /usr/local/lib/python3.7/dist-packages (from LunarCalendar>=0.0.9->prophet) (4.1)\n",
            "Requirement already satisfied: pyparsing!=2.0.4,!=2.1.2,!=2.1.6,>=2.0.1 in /usr/local/lib/python3.7/dist-packages (from matplotlib>=2.0.0->prophet) (2.4.7)\n",
            "Requirement already satisfied: cycler>=0.10 in /usr/local/lib/python3.7/dist-packages (from matplotlib>=2.0.0->prophet) (0.10.0)\n",
            "Requirement already satisfied: kiwisolver>=1.0.1 in /usr/local/lib/python3.7/dist-packages (from matplotlib>=2.0.0->prophet) (1.3.2)\n"
          ]
        }
      ]
    },
    {
      "cell_type": "code",
      "metadata": {
        "colab": {
          "base_uri": "https://localhost:8080/",
          "height": 204
        },
        "id": "S4QVbCduMoA2",
        "outputId": "d89ad3e3-ac55-4fb9-eb3d-558fe52a63d4"
      },
      "source": [
        "prophet_data=data.loc[:191,['SurgDate','Actual']]\n",
        "prophet_data = prophet_data.rename(columns={'SurgDate': 'ds', 'Actual': 'y'})\n",
        "prophet_data.head()"
      ],
      "execution_count": 151,
      "outputs": [
        {
          "output_type": "execute_result",
          "data": {
            "text/html": [
              "<div>\n",
              "<style scoped>\n",
              "    .dataframe tbody tr th:only-of-type {\n",
              "        vertical-align: middle;\n",
              "    }\n",
              "\n",
              "    .dataframe tbody tr th {\n",
              "        vertical-align: top;\n",
              "    }\n",
              "\n",
              "    .dataframe thead th {\n",
              "        text-align: right;\n",
              "    }\n",
              "</style>\n",
              "<table border=\"1\" class=\"dataframe\">\n",
              "  <thead>\n",
              "    <tr style=\"text-align: right;\">\n",
              "      <th></th>\n",
              "      <th>ds</th>\n",
              "      <th>y</th>\n",
              "    </tr>\n",
              "  </thead>\n",
              "  <tbody>\n",
              "    <tr>\n",
              "      <th>0</th>\n",
              "      <td>2011-10-10</td>\n",
              "      <td>106</td>\n",
              "    </tr>\n",
              "    <tr>\n",
              "      <th>1</th>\n",
              "      <td>2011-10-11</td>\n",
              "      <td>121</td>\n",
              "    </tr>\n",
              "    <tr>\n",
              "      <th>2</th>\n",
              "      <td>2011-10-12</td>\n",
              "      <td>126</td>\n",
              "    </tr>\n",
              "    <tr>\n",
              "      <th>3</th>\n",
              "      <td>2011-10-13</td>\n",
              "      <td>114</td>\n",
              "    </tr>\n",
              "    <tr>\n",
              "      <th>4</th>\n",
              "      <td>2011-10-14</td>\n",
              "      <td>106</td>\n",
              "    </tr>\n",
              "  </tbody>\n",
              "</table>\n",
              "</div>"
            ],
            "text/plain": [
              "          ds    y\n",
              "0 2011-10-10  106\n",
              "1 2011-10-11  121\n",
              "2 2011-10-12  126\n",
              "3 2011-10-13  114\n",
              "4 2011-10-14  106"
            ]
          },
          "metadata": {},
          "execution_count": 151
        }
      ]
    },
    {
      "cell_type": "code",
      "metadata": {
        "colab": {
          "base_uri": "https://localhost:8080/"
        },
        "id": "cUN4-9gULPdR",
        "outputId": "656514b7-8d21-4784-8e25-a973d3c6580d"
      },
      "source": [
        "m = Prophet()\n",
        "m.fit(prophet_data)"
      ],
      "execution_count": 152,
      "outputs": [
        {
          "output_type": "stream",
          "name": "stderr",
          "text": [
            "INFO:prophet:Disabling yearly seasonality. Run prophet with yearly_seasonality=True to override this.\n",
            "INFO:prophet:Disabling daily seasonality. Run prophet with daily_seasonality=True to override this.\n"
          ]
        },
        {
          "output_type": "execute_result",
          "data": {
            "text/plain": [
              "<prophet.forecaster.Prophet at 0x7fd836793a50>"
            ]
          },
          "metadata": {},
          "execution_count": 152
        }
      ]
    },
    {
      "cell_type": "code",
      "metadata": {
        "id": "lvjWXnHyLWks"
      },
      "source": [
        "periods = h_max\n",
        "frequency = 'D'\n",
        "future = m.make_future_dataframe(periods = periods, freq = frequency, include_history = False)"
      ],
      "execution_count": 153,
      "outputs": []
    },
    {
      "cell_type": "code",
      "metadata": {
        "id": "iZ3Ir7YKN5au"
      },
      "source": [
        "forecast = m.predict(future)\n",
        "predictions_df['Prophet'] = forecast['yhat']"
      ],
      "execution_count": 154,
      "outputs": []
    },
    {
      "cell_type": "code",
      "metadata": {
        "colab": {
          "base_uri": "https://localhost:8080/",
          "height": 343
        },
        "id": "kgerFBXfOGx2",
        "outputId": "666f2d25-e350-4670-8ae2-8232b1cab29f"
      },
      "source": [
        "plt.plot(X_train_timeseries[160:],y_train_timeseries[160:],color='black',label='train')\n",
        "plt.plot(X_test_timeseries, forecast['yhat'], color = 'blue', label = 'forecast')\n",
        "plt.plot(X_test_timeseries, y_test_timeseries, color = 'red', label = 'test')\n",
        "plt.title('Hourly Departures Forecast')\n",
        "plt.xlabel('Time')\n",
        "plt.ylabel('Number of Departures')\n",
        "plt.xticks(rotation=90)\n",
        "plt.legend()\n",
        "plt.show()"
      ],
      "execution_count": 155,
      "outputs": [
        {
          "output_type": "display_data",
          "data": {
            "image/png": "[encoded data removed]",
            "text/plain": [
              "<Figure size 432x288 with 1 Axes>"
            ]
          },
          "metadata": {
            "needs_background": "light"
          }
        }
      ]
    },
    {
      "cell_type": "markdown",
      "metadata": {
        "id": "XrY5DF5WRfMj"
      },
      "source": [
        "## **AUTO**-**ARIMA**"
      ]
    },
    {
      "cell_type": "code",
      "metadata": {
        "colab": {
          "base_uri": "https://localhost:8080/"
        },
        "id": "z9t9eExyPAdN",
        "outputId": "3c4ad516-995a-4797-8f92-bce3fedbe809"
      },
      "source": [
        "m=5\n",
        "seasonal = True\n",
        "autoarima_model = pmd.auto_arima(y_train_timeseries, seasonal = True, trace = True)"
      ],
      "execution_count": 156,
      "outputs": [
        {
          "output_type": "stream",
          "name": "stdout",
          "text": [
            "Performing stepwise search to minimize aic\n",
            " ARIMA(2,0,2)(0,0,0)[0] intercept   : AIC=inf, Time=0.48 sec\n",
            " ARIMA(0,0,0)(0,0,0)[0] intercept   : AIC=1681.890, Time=0.02 sec\n",
            " ARIMA(1,0,0)(0,0,0)[0] intercept   : AIC=1670.900, Time=0.07 sec\n",
            " ARIMA(0,0,1)(0,0,0)[0] intercept   : AIC=1672.582, Time=0.09 sec\n",
            " ARIMA(0,0,0)(0,0,0)[0]             : AIC=2376.909, Time=0.01 sec\n",
            " ARIMA(2,0,0)(0,0,0)[0] intercept   : AIC=1672.450, Time=0.12 sec\n",
            " ARIMA(1,0,1)(0,0,0)[0] intercept   : AIC=1672.653, Time=0.10 sec\n",
            " ARIMA(2,0,1)(0,0,0)[0] intercept   : AIC=1674.443, Time=0.15 sec\n",
            " ARIMA(1,0,0)(0,0,0)[0]             : AIC=1760.066, Time=0.02 sec\n",
            "\n",
            "Best model:  ARIMA(1,0,0)(0,0,0)[0] intercept\n",
            "Total fit time: 1.068 seconds\n"
          ]
        }
      ]
    },
    {
      "cell_type": "code",
      "metadata": {
        "id": "M-OhUgeiVgO7"
      },
      "source": [
        "from statsmodels.tsa.arima.model import ARIMA\n",
        "model=ARIMA(y_train_timeseries,order=(1,1,5))\n",
        "model=model.fit()"
      ],
      "execution_count": 157,
      "outputs": []
    },
    {
      "cell_type": "code",
      "metadata": {
        "id": "dtQv6eWGVgH-"
      },
      "source": [
        "start=len(X_train_timeseries)\n",
        "end=len(X_train_timeseries)+len(y_test_timeseries)-1\n",
        "predictions_df['autoarima']=model.predict(start=start,end=end).values"
      ],
      "execution_count": 158,
      "outputs": []
    },
    {
      "cell_type": "code",
      "metadata": {
        "id": "GO37nqN5SVUI"
      },
      "source": [
        "predictions_df['autoarima'] = autoarima_model.predict(len(X_test_timeseries))"
      ],
      "execution_count": 159,
      "outputs": []
    },
    {
      "cell_type": "code",
      "metadata": {
        "id": "mt0dNEtFTRve"
      },
      "source": [
        "predictions_df['Actual']=y_test_timeseries.values"
      ],
      "execution_count": 160,
      "outputs": []
    },
    {
      "cell_type": "code",
      "metadata": {
        "colab": {
          "base_uri": "https://localhost:8080/",
          "height": 204
        },
        "id": "tppxKwXaTUWC",
        "outputId": "efd6d911-cb27-48f3-c0db-ff319e4c3582"
      },
      "source": [
        "predictions_df.head()"
      ],
      "execution_count": 161,
      "outputs": [
        {
          "output_type": "execute_result",
          "data": {
            "text/html": [
              "<div>\n",
              "<style scoped>\n",
              "    .dataframe tbody tr th:only-of-type {\n",
              "        vertical-align: middle;\n",
              "    }\n",
              "\n",
              "    .dataframe tbody tr th {\n",
              "        vertical-align: top;\n",
              "    }\n",
              "\n",
              "    .dataframe thead th {\n",
              "        text-align: right;\n",
              "    }\n",
              "</style>\n",
              "<table border=\"1\" class=\"dataframe\">\n",
              "  <thead>\n",
              "    <tr style=\"text-align: right;\">\n",
              "      <th></th>\n",
              "      <th>SurgDate</th>\n",
              "      <th>mean_baseline</th>\n",
              "      <th>Naive_baseline</th>\n",
              "      <th>seasonal_naive_baseline</th>\n",
              "      <th>drift_baseline</th>\n",
              "      <th>Prophet</th>\n",
              "      <th>autoarima</th>\n",
              "      <th>Actual</th>\n",
              "    </tr>\n",
              "  </thead>\n",
              "  <tbody>\n",
              "    <tr>\n",
              "      <th>0</th>\n",
              "      <td>2012-07-09</td>\n",
              "      <td>115.848958</td>\n",
              "      <td>129</td>\n",
              "      <td>108</td>\n",
              "      <td>129.120419</td>\n",
              "      <td>118.078044</td>\n",
              "      <td>119.218458</td>\n",
              "      <td>114</td>\n",
              "    </tr>\n",
              "    <tr>\n",
              "      <th>1</th>\n",
              "      <td>2012-07-10</td>\n",
              "      <td>115.848958</td>\n",
              "      <td>129</td>\n",
              "      <td>124</td>\n",
              "      <td>129.240838</td>\n",
              "      <td>118.115451</td>\n",
              "      <td>116.714470</td>\n",
              "      <td>119</td>\n",
              "    </tr>\n",
              "    <tr>\n",
              "      <th>2</th>\n",
              "      <td>2012-07-11</td>\n",
              "      <td>115.848958</td>\n",
              "      <td>129</td>\n",
              "      <td>111</td>\n",
              "      <td>129.361257</td>\n",
              "      <td>121.463629</td>\n",
              "      <td>116.073471</td>\n",
              "      <td>122</td>\n",
              "    </tr>\n",
              "    <tr>\n",
              "      <th>3</th>\n",
              "      <td>2012-07-12</td>\n",
              "      <td>115.848958</td>\n",
              "      <td>129</td>\n",
              "      <td>104</td>\n",
              "      <td>129.481675</td>\n",
              "      <td>123.712878</td>\n",
              "      <td>115.909381</td>\n",
              "      <td>111</td>\n",
              "    </tr>\n",
              "    <tr>\n",
              "      <th>4</th>\n",
              "      <td>2012-07-13</td>\n",
              "      <td>115.848958</td>\n",
              "      <td>129</td>\n",
              "      <td>129</td>\n",
              "      <td>129.602094</td>\n",
              "      <td>121.681212</td>\n",
              "      <td>115.867375</td>\n",
              "      <td>110</td>\n",
              "    </tr>\n",
              "  </tbody>\n",
              "</table>\n",
              "</div>"
            ],
            "text/plain": [
              "    SurgDate  mean_baseline  Naive_baseline  ...     Prophet   autoarima  Actual\n",
              "0 2012-07-09     115.848958             129  ...  118.078044  119.218458     114\n",
              "1 2012-07-10     115.848958             129  ...  118.115451  116.714470     119\n",
              "2 2012-07-11     115.848958             129  ...  121.463629  116.073471     122\n",
              "3 2012-07-12     115.848958             129  ...  123.712878  115.909381     111\n",
              "4 2012-07-13     115.848958             129  ...  121.681212  115.867375     110\n",
              "\n",
              "[5 rows x 8 columns]"
            ]
          },
          "metadata": {},
          "execution_count": 161
        }
      ]
    },
    {
      "cell_type": "markdown",
      "metadata": {
        "id": "RnBgQ8BxZ0Bv"
      },
      "source": [
        "**Sum** **of** **squared** **error**"
      ]
    },
    {
      "cell_type": "code",
      "metadata": {
        "id": "_8pYNWXBTg3J",
        "colab": {
          "base_uri": "https://localhost:8080/"
        },
        "outputId": "f7def344-73f5-49fa-db38-f1a7453a6326"
      },
      "source": [
        "mean_baseline_error=((predictions_df['mean_baseline'] - predictions_df['Actual']) ** 2).sum()\n",
        "print('mean_baseline_error:',mean_baseline_error)\n",
        "Naive_baseline_error=((predictions_df['Naive_baseline'] - predictions_df['Actual']) ** 2).sum()\n",
        "print('Naive_baseline_error:',Naive_baseline_error)\n",
        "seasonal_baseline_error=((predictions_df['seasonal_naive_baseline'] - predictions_df['Actual']) ** 2).sum()\n",
        "print('seasonal_baseline_error:',seasonal_baseline_error)\n",
        "Prophet_error=((predictions_df['Prophet'] - predictions_df['Actual']) ** 2).sum()\n",
        "print('Prophet_error:',Prophet_error)\n",
        "autoarima_error=((predictions_df['autoarima'] - predictions_df['Actual']) ** 2).sum()\n",
        "print('autoarima_error:',autoarima_error)"
      ],
      "execution_count": 162,
      "outputs": [
        {
          "output_type": "stream",
          "name": "stdout",
          "text": [
            "mean_baseline_error: 4492.669949001736\n",
            "Naive_baseline_error: 9590\n",
            "seasonal_baseline_error: 9480\n",
            "Prophet_error: 5290.608121701782\n",
            "autoarima_error: 4508.838084609313\n"
          ]
        }
      ]
    },
    {
      "cell_type": "markdown",
      "metadata": {
        "id": "mEYCj60qbrgx"
      },
      "source": [
        "## **MSE**"
      ]
    },
    {
      "cell_type": "code",
      "metadata": {
        "colab": {
          "base_uri": "https://localhost:8080/"
        },
        "id": "RKVufdOgapAC",
        "outputId": "85834ba0-5b7d-410d-c46c-6c439eed5271"
      },
      "source": [
        "from sklearn.metrics import mean_squared_error\n",
        "mean_baseline_error_mse=mean_squared_error(predictions_df['mean_baseline'],predictions_df['Actual'])\n",
        "Naive_baseline_error_mse=mean_squared_error(predictions_df['Naive_baseline'],predictions_df['Actual'])\n",
        "seasonal_baseline_error_mse=mean_squared_error(predictions_df['seasonal_naive_baseline'],predictions_df['Actual'])\n",
        "Prophet_error_mse=mean_squared_error(predictions_df['Prophet'],predictions_df['Actual'])\n",
        "autoarima_error_mse=mean_squared_error(predictions_df['autoarima'],predictions_df['Actual'])\n",
        "print('mean_baseline_error:',mean_baseline_error_mse)\n",
        "print('Naive_baseline_error:',Naive_baseline_error_mse)\n",
        "print('seasonal_baseline_error:',seasonal_baseline_error_mse)\n",
        "print('Prophet_error:',Prophet_error_mse)\n",
        "print('autoarima_error:',autoarima_error_mse)"
      ],
      "execution_count": 163,
      "outputs": [
        {
          "output_type": "stream",
          "name": "stdout",
          "text": [
            "mean_baseline_error: 91.68714181636197\n",
            "Naive_baseline_error: 195.71428571428572\n",
            "seasonal_baseline_error: 193.46938775510205\n",
            "Prophet_error: 107.97159432044452\n",
            "autoarima_error: 92.01710376753701\n"
          ]
        }
      ]
    },
    {
      "cell_type": "code",
      "metadata": {
        "id": "Qf1t8aQ5azx4"
      },
      "source": [
        ""
      ],
      "execution_count": null,
      "outputs": []
    }
  ]
}